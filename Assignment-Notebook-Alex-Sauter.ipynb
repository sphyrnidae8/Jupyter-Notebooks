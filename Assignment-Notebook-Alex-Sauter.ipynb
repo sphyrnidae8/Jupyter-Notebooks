{
 "cells": [
  {
   "cell_type": "markdown",
   "id": "35bee1ea-ccfb-402d-9e4e-b9bc59bbf34e",
   "metadata": {},
   "source": [
    "# Data Science Tools and Ecosystem"
   ]
  },
  {
   "cell_type": "markdown",
   "id": "68eecedd-2fc3-4c6b-9491-9776f4214441",
   "metadata": {},
   "source": [
    "In this notebook, Data Science Tools and Ecosystem are summarized."
   ]
  },
  {
   "cell_type": "markdown",
   "id": "890c3480-232f-49b6-8013-cdd8408d5d11",
   "metadata": {},
   "source": [
    "Some of the popular languages that Data Scientists use are:\n",
    "1. Python\n",
    "2. Julia\n",
    "3. R"
   ]
  },
  {
   "cell_type": "markdown",
   "id": "7d831bb3-e2a0-42fd-8e26-23189f1dc2c3",
   "metadata": {},
   "source": [
    "Some of the commonly used libraries used by Data Scientists include:\n",
    "1. NumPy\n",
    "2. Pandas\n",
    "3. Matplotlib\n",
    "4. Keras\n",
    "5. PyTorch"
   ]
  },
  {
   "cell_type": "markdown",
   "id": "1ee918be-4a0a-42d0-a432-92e1192fcb00",
   "metadata": {},
   "source": [
    "| Data Science Tools |\n",
    "| --- |\n",
    "| Jupyter Notebook |\n",
    "|JupyterLab |\n",
    "| RStudio |\n",
    "| Apache Spark |\n",
    "| Apache Hadoop |"
   ]
  },
  {
   "cell_type": "markdown",
   "id": "0a3039ab-8e28-4fca-80bc-ab4e93fccd50",
   "metadata": {},
   "source": [
    "### Below are a few examples of evaluating arithmetic expressions in Python"
   ]
  },
  {
   "cell_type": "code",
   "execution_count": 13,
   "id": "cf24c289-ead6-4ebd-b39d-627cf3d47452",
   "metadata": {},
   "outputs": [
    {
     "data": {
      "text/plain": [
       "17"
      ]
     },
     "execution_count": 13,
     "metadata": {},
     "output_type": "execute_result"
    }
   ],
   "source": [
    "#This a simple arithmetic expression to mutiply then add integers\n",
    "(3*4)+5"
   ]
  },
  {
   "cell_type": "code",
   "execution_count": 17,
   "id": "a647cab7-de1a-4e5a-9bdb-f14e35bec5ec",
   "metadata": {},
   "outputs": [
    {
     "data": {
      "text/plain": [
       "3.3333333333333335"
      ]
     },
     "execution_count": 17,
     "metadata": {},
     "output_type": "execute_result"
    }
   ],
   "source": [
    "# This will convert 200 minutes to hours by diving by 60\n",
    "\n",
    "200 / 60"
   ]
  },
  {
   "cell_type": "markdown",
   "id": "e36bfb06-3290-4ab8-b42a-4bdaf1e8293f",
   "metadata": {},
   "source": [
    "**Objectives:**\n",
    "  - List popular languages for Data Science\n",
    "  - List three commonly used libraries used by Data Scientist\n",
    "  - Create a one-columng table with open-source Data Science tools \n"
   ]
  },
  {
   "cell_type": "markdown",
   "id": "68fe55cb-4dc8-4e4d-b782-1f4ba3923662",
   "metadata": {},
   "source": [
    "## Author\n",
    "Alexander Sauter"
   ]
  },
  {
   "cell_type": "code",
   "execution_count": null,
   "id": "f10c222e-2b60-4723-836d-f7a2621d5225",
   "metadata": {},
   "outputs": [],
   "source": []
  }
 ],
 "metadata": {
  "kernelspec": {
   "display_name": "Python 3 (ipykernel)",
   "language": "python",
   "name": "python3"
  },
  "language_info": {
   "codemirror_mode": {
    "name": "ipython",
    "version": 3
   },
   "file_extension": ".py",
   "mimetype": "text/x-python",
   "name": "python",
   "nbconvert_exporter": "python",
   "pygments_lexer": "ipython3",
   "version": "3.11.5"
  }
 },
 "nbformat": 4,
 "nbformat_minor": 5
}
